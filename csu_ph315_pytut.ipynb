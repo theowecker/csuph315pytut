{
  "nbformat": 4,
  "nbformat_minor": 0,
  "metadata": {
    "colab": {
      "name": "ph315pythontutorial.ipynb",
      "provenance": [],
      "collapsed_sections": [],
      "include_colab_link": true
    },
    "kernelspec": {
      "name": "python3",
      "display_name": "Python 3"
    }
  },
  "cells": [
    {
      "cell_type": "markdown",
      "metadata": {
        "id": "view-in-github",
        "colab_type": "text"
      },
      "source": [
        "<a href=\"https://colab.research.google.com/github/theowecker/csuph315pytut/blob/main/csu_ph315_pytut.ipynb\" target=\"_parent\"><img src=\"https://colab.research.google.com/assets/colab-badge.svg\" alt=\"Open In Colab\"/></a>"
      ]
    },
    {
      "cell_type": "markdown",
      "metadata": {
        "id": "8MkWXbG3YfC9"
      },
      "source": [
        "# 1. Welcome to PH 315 for Spring 2021! \r\n",
        "For most of our data analysis in this course, we'll be using Python. Python is a multi-purpose programming language that is open-source and free to use. It is commonly used in a wide variety of industries and is similar to Matlab. In this course, we'll be using Google Colab as a free browser based version of a Python environment. You'll be able to upload data to Google Drive and import it into these Colab notebooks when you need to analyze it.\r\n",
        "\r\n",
        "We're not going to cover a lot of basic Python nitty-gritty details (like data types) and will instead focus on the tools you'll need for this class. We will then provide a framework that you will finish for each lab. If you'd like more info on basic Python, we'll provide some links to resources or feel free to ask! "
      ]
    },
    {
      "cell_type": "markdown",
      "metadata": {
        "id": "czmI87pVatKB"
      },
      "source": [
        "# 2. Basic Introduction to Python, Numpy, and Indexing\r\n",
        "For a lot of our work in Python, we'll need to import some specific packages like Numpy and SciPy. These are libraries of functions that make our lives a lot easier and make complex mathematical operations simple. To import something we simply use the import command and specify what we want to name it as.  Once you import it once in your notebook, you don't need to do it again, you can just use the package in lower blocks of code.\r\n"
      ]
    },
    {
      "cell_type": "code",
      "metadata": {
        "id": "S3aj97_gYhZY"
      },
      "source": [
        "import numpy as np"
      ],
      "execution_count": null,
      "outputs": []
    },
    {
      "cell_type": "markdown",
      "metadata": {
        "id": "OnBqsEwLxCQy"
      },
      "source": [
        "We can also import a single function from a library like the genfromtxt function from the SciPy or MatPlotLib libraries."
      ]
    },
    {
      "cell_type": "code",
      "metadata": {
        "id": "n3U_XXXTxFQ7"
      },
      "source": [
        "import matplotlib.pyplot as plt"
      ],
      "execution_count": null,
      "outputs": []
    },
    {
      "cell_type": "markdown",
      "metadata": {
        "id": "53--5SFk8htp"
      },
      "source": [
        "To run these blocks of code just press the play button in the [ ]. You can make a new Colab document with all of your code blocks in it."
      ]
    },
    {
      "cell_type": "markdown",
      "metadata": {
        "id": "LUQp05Y_x1eg"
      },
      "source": [
        "Now we'll learn how to use Numpy to create, organize, and utilize arrays in a few ways that will be helpful in your experiments."
      ]
    },
    {
      "cell_type": "code",
      "metadata": {
        "colab": {
          "base_uri": "https://localhost:8080/"
        },
        "id": "NzfW1phS1b3D",
        "outputId": "977fcd21-6bd4-448f-dabb-8a2158e1e2c9"
      },
      "source": [
        "m = np.array([[1,2], [3,4]]) # create a 2x2 array \r\n",
        "\r\n",
        "\r\n",
        "m = np.append(m, [[5,6],[7,8]], axis=0) # append another array to the original one. Be careful which axis you append it to.\r\n",
        "print('m = ',m)  # print the array to see what it looks like.  You can also just write print(m) for a faster look\r\n",
        "print('\\nthe shape of the m is:',m.shape)  "
      ],
      "execution_count": null,
      "outputs": [
        {
          "output_type": "stream",
          "text": [
            "m =  [[1 2]\n",
            " [3 4]\n",
            " [5 6]\n",
            " [7 8]]\n",
            "\n",
            "the shape of the m is: (4, 2)\n"
          ],
          "name": "stdout"
        }
      ]
    },
    {
      "cell_type": "markdown",
      "metadata": {
        "id": "4OtUODNG6JXw"
      },
      "source": [
        "\n",
        "\n",
        "---\n",
        "\n",
        "\n",
        "**Exercise:** Create two 3x3 arrays using both np.array and using np.append to append 3 vectors together.  Add a code block below this text block to do this. \n",
        "\n",
        "\n",
        "---\n",
        "\n"
      ]
    },
    {
      "cell_type": "markdown",
      "metadata": {
        "id": "zMvBqtHU4LNX"
      },
      "source": [
        "An important thing we will need to learn for this class is how to index arrays. In Python, indices start at 0. To find the first value of the array above we can use"
      ]
    },
    {
      "cell_type": "code",
      "metadata": {
        "id": "o-48120n41-o",
        "colab": {
          "base_uri": "https://localhost:8080/"
        },
        "outputId": "728a7be3-3201-4452-8399-cb904a11f17b"
      },
      "source": [
        "print('The i=1, j=1 component of the array is:', m[0,0]) # where print tells Python to display the answer and array[0,0] selects the i=1,j=1 component"
      ],
      "execution_count": null,
      "outputs": [
        {
          "output_type": "stream",
          "text": [
            "The i=1, j=1 component of the array is: 1\n"
          ],
          "name": "stdout"
        }
      ]
    },
    {
      "cell_type": "markdown",
      "metadata": {
        "id": "ZMvyM-uP5Ih_"
      },
      "source": [
        "\n",
        "\n",
        "---\n",
        "\n",
        "\n",
        "**Exercise:** Print the [i=3, j=2] and [i=1, j=2] components of your array using indexing. Then print the first row using just one line.  \n",
        "\n",
        "\n",
        "---\n",
        "\n"
      ]
    },
    {
      "cell_type": "markdown",
      "metadata": {
        "id": "LHX7P1MH5i6T"
      },
      "source": [
        "You can also call the last element in an array by using -1."
      ]
    },
    {
      "cell_type": "code",
      "metadata": {
        "id": "qPUEIoGj9ive",
        "colab": {
          "base_uri": "https://localhost:8080/"
        },
        "outputId": "887b66f2-723b-4ffe-f061-00cdcf8fc0b2"
      },
      "source": [
        "m[-1,-1] # where [-1,-1] refers to the last element in each column and row"
      ],
      "execution_count": null,
      "outputs": [
        {
          "output_type": "execute_result",
          "data": {
            "text/plain": [
              "8"
            ]
          },
          "metadata": {
            "tags": []
          },
          "execution_count": 5
        }
      ]
    },
    {
      "cell_type": "markdown",
      "metadata": {
        "id": "Itv3xbD89x5y"
      },
      "source": [
        "We might also want to \"slice\" arrays, i.e. take only a certain subset of the array. For example, you might want to only fit a certain range of your data \r\n",
        "(perhaps excluding the first data point). The syntax in Python for this is: `[first index (inclusive): last index (exclusive)]`.\r\n",
        "\r\n",
        "\r\n",
        "Let's make a new array **b** that we can illustrate this with. Below, b has 6 rows and 4 columns.  When we slice out the first row, we will call it a new array, b2, which will have 5 rows and 4 columns. "
      ]
    },
    {
      "cell_type": "code",
      "metadata": {
        "colab": {
          "base_uri": "https://localhost:8080/"
        },
        "id": "ySrXjQ7XAixt",
        "outputId": "bee3cee1-5f03-4c1d-af68-befb7e782216"
      },
      "source": [
        "b = np.array([[0,0,0,0], [5,6,7,8], [9,10,11,12], [5,6,7,8], [4,2,1,8], [1,2,3,8]]) # array from a data set\r\n",
        "print('b = ',b)\r\n",
        "print('\\nthe shape of b is:',b.shape,'\\n\\n')  \r\n",
        "\r\n",
        "b2 = b[1:6] # this slice says that we don't want to include the 0th row.  Notice that we had to use 6 as the upper index, even though the index only goes up to 5\r\n",
        "print('b2 =',b2)\r\n",
        "print('\\nthe shape of b2 is:',b2.shape)   "
      ],
      "execution_count": null,
      "outputs": [
        {
          "output_type": "stream",
          "text": [
            "b =  [[ 0  0  0  0]\n",
            " [ 5  6  7  8]\n",
            " [ 9 10 11 12]\n",
            " [ 5  6  7  8]\n",
            " [ 4  2  1  8]\n",
            " [ 1  2  3  8]]\n",
            "\n",
            "the shape of b is: (6, 4) \n",
            "\n",
            "\n",
            "b2 = [[ 5  6  7  8]\n",
            " [ 9 10 11 12]\n",
            " [ 5  6  7  8]\n",
            " [ 4  2  1  8]\n",
            " [ 1  2  3  8]]\n",
            "\n",
            "the shape of b2 is: (5, 4)\n"
          ],
          "name": "stdout"
        }
      ]
    },
    {
      "cell_type": "markdown",
      "metadata": {
        "id": "Malgv1_9Bmd_"
      },
      "source": [
        "We can also slice specific parts (like rows or columns from a data table) from the above matrix. Let's pick out the 5x2 matrix from the end of **b2**, and put it in an array called **b3**"
      ]
    },
    {
      "cell_type": "code",
      "metadata": {
        "colab": {
          "base_uri": "https://localhost:8080/"
        },
        "id": "5uyra3rfBrWj",
        "outputId": "2bd6d0eb-187c-4ea0-ea0c-5299f3dfe069"
      },
      "source": [
        "b3 = b2[:,2:5] # notice the \":\" operator by itself is used to select all the elements\r\n",
        "print('b3 = ',b3)\r\n",
        "print('\\nthe shape of b3 is:',b3.shape)   "
      ],
      "execution_count": null,
      "outputs": [
        {
          "output_type": "stream",
          "text": [
            "b3 =  [[ 7  8]\n",
            " [11 12]\n",
            " [ 7  8]\n",
            " [ 1  8]\n",
            " [ 3  8]]\n",
            "\n",
            "the shape of b3 is: (5, 2)\n"
          ],
          "name": "stdout"
        }
      ]
    },
    {
      "cell_type": "markdown",
      "metadata": {
        "id": "AWjrJbQYRL97"
      },
      "source": [
        "For experiments in this course (and beyond), data is often saved in a table format where each column stores the data for a different variable.  You might then use slicing to get individual columns of the array to use for plotting, fitting, etc.  We can also select certain columns from an array with this syntax. "
      ]
    },
    {
      "cell_type": "code",
      "metadata": {
        "colab": {
          "base_uri": "https://localhost:8080/"
        },
        "id": "SKFrOijH8pZp",
        "outputId": "1ef65557-608d-45d0-c994-01b12ebb5193"
      },
      "source": [
        "b4 = b[:,[0, 3]] # we only want to select the 1st and 4th column from b\r\n",
        "print('b4 = \\n',b4)"
      ],
      "execution_count": null,
      "outputs": [
        {
          "output_type": "stream",
          "text": [
            "b4 = \n",
            " [[ 0  0]\n",
            " [ 5  8]\n",
            " [ 9 12]\n",
            " [ 5  8]\n",
            " [ 4  8]\n",
            " [ 1  8]]\n"
          ],
          "name": "stdout"
        }
      ]
    },
    {
      "cell_type": "markdown",
      "metadata": {
        "id": "SalTCKLtCEL3"
      },
      "source": [
        "\n",
        "\n",
        "---\n",
        "\n",
        "\n",
        "**Exercise:** Create a matrix like above and slice out the 2nd column.  Make a code block below to do this.\n",
        "\n",
        "---\n",
        "\n"
      ]
    },
    {
      "cell_type": "markdown",
      "metadata": {
        "id": "sIm5ZUvmEaDH"
      },
      "source": [
        "# 3. Importing Data Files\r\n",
        "In this course, I suggest that data files are put into experiment folders on your Google Drive like this:\r\n",
        "![Folders.jpg](data:image/jpeg;base64,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)"
      ]
    },
    {
      "cell_type": "markdown",
      "metadata": {
        "id": "yMe6_-nWH9C8"
      },
      "source": [
        "This allows for easier import into Google Colab. \n",
        "\n",
        "Every time you open your Colab notebook, you will have to mount your Google Drive, but this is relatively straightforward using the code below.  Although you can load the files manually, doing it this way (through Drive) saves you the hassle of finding your data on your local machine and importing it by hand every time you open the notebook."
      ]
    },
    {
      "cell_type": "code",
      "metadata": {
        "id": "jiV3sajM4s2l",
        "colab": {
          "base_uri": "https://localhost:8080/"
        },
        "outputId": "2d112b3d-2e04-4deb-ad6c-0a885016f241"
      },
      "source": [
        "from google.colab import drive\r\n",
        "drive.mount('/content/drive')"
      ],
      "execution_count": null,
      "outputs": [
        {
          "output_type": "stream",
          "text": [
            "Mounted at /content/drive\n"
          ],
          "name": "stdout"
        }
      ]
    },
    {
      "cell_type": "markdown",
      "metadata": {
        "id": "PtOdxCm84uUD"
      },
      "source": [
        "These commands will mount your Google Drive on the virtual Google Colab machine and allow you to import files. Once the drive is mounted, you can use various Numpy commands to read in files and store the data in them as Numpy arrays. \r\n",
        "\r\n",
        "For example, you can use np.genfromtxt which will create an array from a .txt file. Here's an example from the Compton Effect lab."
      ]
    },
    {
      "cell_type": "code",
      "metadata": {
        "id": "vdBN6CTU89-A"
      },
      "source": [
        "# Depending on your Google Drive file structure you may need to change the filepath variable\r\n",
        "filepath= '/content/drive/MyDrive/Colab Notebooks/Compton/' # defining a variable as the main part of the path\r\n",
        "\r\n",
        "norod_25deg = np.genfromtxt(filepath+'th25 deg no rod.txt',dtype=float,delimiter=',',skip_header=1) \r\n",
        "withrod_25deg = np.genfromtxt(filepath+'th25 deg with rod.txt',dtype=float,delimiter=',',skip_header=1)"
      ],
      "execution_count": null,
      "outputs": []
    },
    {
      "cell_type": "markdown",
      "metadata": {
        "id": "xmv0SwgaL9Yt"
      },
      "source": [
        "The structure of your Google Drive will determine what file path you need to input. You can also just use the full file path in genfromtxt instead of defining a filepath variable, as below."
      ]
    },
    {
      "cell_type": "code",
      "metadata": {
        "id": "oAhMoWMTMHC9"
      },
      "source": [
        "norod_25deg = np.genfromtxt('/content/drive/MyDrive/Colab Notebooks/Compton/th25 deg no rod.txt', dtype=float, delimiter=',', skip_header=1)"
      ],
      "execution_count": null,
      "outputs": []
    },
    {
      "cell_type": "markdown",
      "metadata": {
        "id": "RRnZezQR6RTP"
      },
      "source": [
        "The Numpy function genfromtxt (used above) is very useful and flexible for loading data files.   You will use it extensively in this course.  \r\n",
        "\r\n",
        "There are a few options that should be specified when loading a file using this function, such as:\r\n",
        "\r\n",
        "`dtype` is used to specify what the data type is.\r\n",
        "\r\n",
        "`delimiter` is used to tell Python what the file uses to separate different columns.  Often it is a comma (as in .csv files), but sometimes it will be a space or a tab (which you would denote by ' ' or '\\t', respectively, in this function).\r\n",
        "\r\n",
        "`skip_header` allows you to skip a specified number of rows at the beginning of a file.  This is useful if you have information in the file header which is not data (such as column labels, or other information that is automatically included in your datafile)"
      ]
    },
    {
      "cell_type": "markdown",
      "metadata": {
        "id": "EvXunatL4H8v"
      },
      "source": [
        "Now let's practice with the testdata.csv that is included. This data looks a lot like the alpha counts from the Radioactivity lab. First we'll need to import it. Your filepath will vary depending on where the test file is in your Google Drive. \r\n",
        "\r\n",
        "If you open up the testdata.csv with Notepad or Excel you will also notice there are 22 rows of useless header information and 1 empty row at the bottom of the sheet (which we can call the footer). So, we will use skip_header and skip_footer to have Python ignore these rows. "
      ]
    },
    {
      "cell_type": "code",
      "metadata": {
        "colab": {
          "base_uri": "https://localhost:8080/"
        },
        "id": "8nJooyI-5sZH",
        "outputId": "c212c3c9-c659-4271-f850-277f625fc83c"
      },
      "source": [
        "radon = np.genfromtxt('/content/drive/MyDrive/testdata.csv', dtype=float, delimiter=',', skip_header=22, skip_footer=1)\r\n",
        "print(radon)"
      ],
      "execution_count": null,
      "outputs": [
        {
          "output_type": "stream",
          "text": [
            "[[0.000e+00       nan 5.500e+01 ...       nan       nan       nan]\n",
            " [1.000e+00       nan 5.600e+01 ...       nan       nan       nan]\n",
            " [2.000e+00       nan 5.700e+01 ...       nan       nan       nan]\n",
            " ...\n",
            " [1.020e+03       nan 6.600e+01 ...       nan       nan       nan]\n",
            " [1.021e+03       nan 6.900e+01 ...       nan       nan       nan]\n",
            " [1.022e+03       nan 7.200e+01 ...       nan       nan       nan]]\n"
          ],
          "name": "stdout"
        }
      ]
    },
    {
      "cell_type": "markdown",
      "metadata": {
        "id": "0FmKEoQO7lWa"
      },
      "source": [
        "\r\n",
        "\r\n",
        "---\r\n",
        "\r\n",
        "\r\n",
        "**Exercise:** Create a new array with the two columns of data by excluding the nan columns.\r\n",
        "\r\n",
        "---\r\n"
      ]
    },
    {
      "cell_type": "markdown",
      "metadata": {
        "id": "DrB_-PjLu9nj"
      },
      "source": [
        "# 4. Plotting and Data Visualization\r\n",
        "Data visualization is extremely important in science. Python makes it easy to make quick plots to see what your data actually look like. This will be really useful for making sure your experimental set-up is working like you think it is or checking to see if you're getting useful results.  Also, you will need to be able to make nice plots for your lab reports.\r\n",
        "\r\n"
      ]
    },
    {
      "cell_type": "markdown",
      "metadata": {
        "id": "joY_Dsp626GE"
      },
      "source": [
        "Most Python plotting is done using `matplotlib.pyplot` .   This package allows you to make plots in a very similar way as you would in Matlab. Let's start with a simple plot and see how it works.\n",
        "\n",
        "pyplot was imported imported at the beginning of this notebook, and was called `plt`.  All the plotting functions will need a `plt.` in front since they are from this package. "
      ]
    },
    {
      "cell_type": "code",
      "metadata": {
        "colab": {
          "base_uri": "https://localhost:8080/",
          "height": 312
        },
        "id": "g9Bcg-kw3JLs",
        "outputId": "a25b0151-cd48-4571-af3c-6512103c5f62"
      },
      "source": [
        "data = [1, 2, 3, 4]\r\n",
        "plt.plot(data, 'r-', linewidth=2.0) # r- specifies that we want a red line as the formatting \r\n",
        "plt.xlabel('time (s)') # generates an x-label for the plot\r\n",
        "plt.ylabel('height (m)') # generates a y-label for the plot\r\n",
        "plt.title('Not Fun Title') # makes a title"
      ],
      "execution_count": null,
      "outputs": [
        {
          "output_type": "execute_result",
          "data": {
            "text/plain": [
              "Text(0.5, 1.0, 'Not Fun Title')"
            ]
          },
          "metadata": {
            "tags": []
          },
          "execution_count": 15
        },
        {
          "output_type": "display_data",
          "data": {
            "image/png": "[encoded data removed]",
            "text/plain": [
              "<Figure size 432x288 with 1 Axes>"
            ]
          },
          "metadata": {
            "tags": [],
            "needs_background": "light"
          }
        }
      ]
    },
    {
      "cell_type": "markdown",
      "metadata": {
        "id": "jjQ5cM233_6E"
      },
      "source": [
        "Notice how x-values were not specified, so values of x = [0,1,2,3] were automatically generated. However, you can also specify those values and let's also save this graph to our files on the left side-bar. \r\n",
        "**Remember** to download your graphs as .jpgs or .pngs when you're done making them, if you want to save them for your lab report.   You can either use `savefig` (as below), or you can right-click to download."
      ]
    },
    {
      "cell_type": "code",
      "metadata": {
        "colab": {
          "base_uri": "https://localhost:8080/",
          "height": 295
        },
        "id": "ZiP0z9lK44vJ",
        "outputId": "432ff72f-b461-46ea-bbe1-70c79066f531"
      },
      "source": [
        "x = [1, 2, 3, 4] # specific x values\r\n",
        "y = [25, 16, 9, 4]\r\n",
        "plt.plot(x,y, 'bo') # bo specifies that we want blue dots\r\n",
        "plt.xlabel('time (s)')\r\n",
        "plt.ylabel('height (m)')\r\n",
        "plt.title('Fun Title')\r\n",
        "plt.savefig('fundata.png') # saves the graph to your Google Colab files"
      ],
      "execution_count": null,
      "outputs": [
        {
          "output_type": "display_data",
          "data": {
            "image/png": "[encoded data removed]",
            "text/plain": [
              "<Figure size 432x288 with 1 Axes>"
            ]
          },
          "metadata": {
            "tags": [],
            "needs_background": "light"
          }
        }
      ]
    },
    {
      "cell_type": "markdown",
      "metadata": {
        "id": "thd35--irCNC"
      },
      "source": [
        "Plots can also easily be saved by right-clicking on a plot and saving the graph as an image. Remember to save your graphs to a flash-drive or the Cloud (such as your Google Drive) so you can access them later."
      ]
    },
    {
      "cell_type": "markdown",
      "metadata": {
        "id": "0o3ZF_Gl-vYL"
      },
      "source": [
        "We can also easily plot two lines on the same graph. Let's use Numpy to make a range of evenly spaced values from 0 to 10 seconds in 0.5 second steps. We also can change the y-scale to a log scale which is useful for visualizing some  features in data sets in this class."
      ]
    },
    {
      "cell_type": "code",
      "metadata": {
        "colab": {
          "base_uri": "https://localhost:8080/",
          "height": 282
        },
        "id": "4pNNcMCI-ygr",
        "outputId": "4a37b8f7-db46-4732-c557-e3a75fc17eaf"
      },
      "source": [
        "t = np.arange(0., 10., 0.5) # evenly sampled time at 200ms intervals\r\n",
        "\r\n",
        "plt.plot(t, t**2, 'bs', label='$t^2$') # plotting t vs. t^2 using a label for a legend\r\n",
        "plt.plot(t, t**3, 'g--', label='$t^3$') # plotting t vs. t^3 using a label for a legend\r\n",
        "\r\n",
        "# The use of $ $ around an expression tells Python that it is Tex script\r\n",
        "\r\n",
        "plt.yscale('log') #change the y scale to log\r\n",
        "plt.legend()"
      ],
      "execution_count": null,
      "outputs": [
        {
          "output_type": "execute_result",
          "data": {
            "text/plain": [
              "<matplotlib.legend.Legend at 0x7fc8ea793ef0>"
            ]
          },
          "metadata": {
            "tags": []
          },
          "execution_count": 20
        },
        {
          "output_type": "display_data",
          "data": {
            "image/png": "[encoded data removed]",
            "text/plain": [
              "<Figure size 432x288 with 1 Axes>"
            ]
          },
          "metadata": {
            "tags": [],
            "needs_background": "light"
          }
        }
      ]
    },
    {
      "cell_type": "markdown",
      "metadata": {
        "id": "RWE5LC2iIAeS"
      },
      "source": [
        "\n",
        "\n",
        "---\n",
        "\n",
        "\n",
        "**Exercise:** Create a plot of $x$ vs. $x^2$ and $x$ vs. $x^4$ on the same graph from 0 to 5 with a title, proper axis labels, with a legend, and with different color dots. Then save the plot, and upload it to your PH315 Google Drive folder.\n",
        "\n",
        "\n",
        "---\n",
        "\n"
      ]
    },
    {
      "cell_type": "markdown",
      "metadata": {
        "id": "T2YUG-wv386b"
      },
      "source": [
        "Now here is a more complicated example of plotting and sub-plotting with error bars which will hopefully be useful when you are making your own plots (adapted from [matplotlib's documentation](https://matplotlib.org/3.3.3/contents.html)).  The use of errobars on plots is very important in this class. "
      ]
    },
    {
      "cell_type": "code",
      "metadata": {
        "colab": {
          "base_uri": "https://localhost:8080/",
          "height": 558
        },
        "id": "VBudifg1DJp-",
        "outputId": "adbf08fe-2fc1-433a-9e7b-1cde31bbec22"
      },
      "source": [
        "import numpy as np\r\n",
        "import matplotlib.pyplot as plt\r\n",
        "\r\n",
        "# Example data\r\n",
        "x = np.arange(0.1, 4, 0.5)\r\n",
        "y = np.exp(-x)\r\n",
        "\r\n",
        "# Example variable error bar values\r\n",
        "yerr = 0.01 + 0.1*np.sqrt(x)\r\n",
        "xerr = 0.1 + yerr\r\n",
        "\r\n",
        "# First illustrate basic pyplot interface, using defaults where possible.\r\n",
        "plt.figure()\r\n",
        "plt.errorbar(x, y, xerr=0.2, yerr=0.4) # this is creating constant error bars\r\n",
        "plt.title(\"Constant errorbars, 0.2 in x, 0.4 in y\")\r\n",
        "\r\n",
        "# Now creating a 2x2 grid of subplots below the above plot\r\n",
        "fig, axs = plt.subplots(nrows=2, ncols=2, sharex=True) # you can insert a figsize=(x,y) to make your plots bigger or smaller here\r\n",
        "# example: fig, axs = plt.subplots(2,1, figsize=(5,5))\r\n",
        "\r\n",
        "# This line of code can be used to\r\n",
        "# format the subplots by adding or removing around the subplots. Play with it if you'd like!\r\n",
        "# plt.subplots_adjust(left=None, right=None, bottom=None, top=1, wspace=None, hspace=0.8) \r\n",
        "\r\n",
        "ax = axs[0,0] # choose the i=1,j=1 subplot\r\n",
        "ax.errorbar(x, y, yerr=yerr, fmt='o')\r\n",
        "ax.set_title('Vert. symmetric')\r\n",
        "\r\n",
        "ax = axs[0,1] # choose the i=1,j=2 subplot\r\n",
        "ax.errorbar(x, y, xerr=xerr, fmt='o')\r\n",
        "ax.set_title('Hor. symmetric')\r\n",
        "\r\n",
        "ax = axs[1,0] # choose the i=2,j=1 subplot\r\n",
        "ax.errorbar(x, y, yerr=[yerr, 2*yerr], xerr=[xerr, 2*xerr], fmt='--o')\r\n",
        "ax.set_title('H, V asymmetric')\r\n",
        "\r\n",
        "ax = axs[1,1] # choose the i=2,j=2 subplot\r\n",
        "ax.errorbar(x, y, 2*xerr, 2*yerr, fmt='--o')\r\n",
        "ax.set_title('2*xerr, 2*yerr')\r\n",
        "\r\n",
        "fig.suptitle('Variable errorbars') # creating a title for the subplots\r\n",
        "\r\n",
        "plt.show()"
      ],
      "execution_count": null,
      "outputs": [
        {
          "output_type": "display_data",
          "data": {
            "image/png": "[encoded data removed]",
            "text/plain": [
              "<Figure size 432x288 with 1 Axes>"
            ]
          },
          "metadata": {
            "tags": [],
            "needs_background": "light"
          }
        },
        {
          "output_type": "display_data",
          "data": {
            "image/png": "[encoded data removed]",
            "text/plain": [
              "<Figure size 432x288 with 4 Axes>"
            ]
          },
          "metadata": {
            "tags": [],
            "needs_background": "light"
          }
        }
      ]
    },
    {
      "cell_type": "markdown",
      "metadata": {
        "id": "zuhz5qXKIhFM"
      },
      "source": [
        "\r\n",
        "\r\n",
        "---\r\n",
        "\r\n",
        "\r\n",
        "**Exercise:** Using your previous code, create constant error bars of xerror = 0.5 and yerror = 1 for $x$ vs. $x^2$ \r\n",
        "\r\n",
        "and xerror = 1 yerror = 2 for $x$ vs. $x^4$ in two subplots.\r\n",
        "\r\n",
        "\r\n",
        "---\r\n",
        "\r\n"
      ]
    },
    {
      "cell_type": "markdown",
      "metadata": {
        "id": "x_5uJ_Ddvjsm"
      },
      "source": [
        "# 5. Curve Fitting\r\n",
        "\r\n",
        "We will commonly need to fit functions/curves to data in this class. Two common curve fitting methods in Python are Numpy's polyfit (np.polyfit) and SciPy optimize's curve_fit (scipy.optimize.curve_fit).  Polyfit only works for polynomials, while SciPy optimize lets you define arbitrary fitting functions (e.g. Gaussian, exponential, or whatever)\r\n",
        "\r\n",
        "Here is a simple example of Numpy's polyfit on a set of data.  Notice how the parameters extracted from fitting the line (the slope and intercept) have uncertainties associated with them.  This is true for *all fits* and is extremely important in this class.  We will talk about it in detail in the second week. You will need to know how to access the uncertainties, as below, so you can report them in your lab reports."
      ]
    },
    {
      "cell_type": "code",
      "metadata": {
        "colab": {
          "base_uri": "https://localhost:8080/",
          "height": 350
        },
        "id": "aQDpHXdNEF9z",
        "outputId": "230b1d25-c8c9-4fa2-8ad8-5b3ec60241c9"
      },
      "source": [
        "N = 10\r\n",
        "\r\n",
        "x = np.random.random(N)\r\n",
        "y = np.random.random(N)\r\n",
        "\r\n",
        "# Use Polyfit to create a matrix of fitted parameters, z,\r\n",
        "# and a covariance matrix which we can square root to get the standard deviation/error of the fit\r\n",
        "z, cov = np.polyfit(x, y, 1, cov=True) # The 1 designates a degree-one polynomial, a line.  Cov is the covariance matrix, which will be used to get the uncertainties.\r\n",
        "stdev = np.sqrt(np.diag(cov)) # the standard deviations (uncertainties) is the sqrt of the covariance diagonals\r\n",
        "\r\n",
        "# Now we can print out the fitting parameters of the line (m and b) and the error of each parameter\r\n",
        "print(z)\r\n",
        "print(stdev)\r\n",
        "\r\n",
        "print(\"\\n\") # putting \\n in a print string will tell Python to make a new line\r\n",
        " \r\n",
        "# Using print to display the fitting parameters and their errors meaningfully\r\n",
        "print(\"The slope of the line is %1.3f +/- %1.3f and the y-intercept is %1.3f +/- %1.3f\" % (z[0], stdev[0], z[1], stdev[1]))\r\n",
        "\r\n",
        "plt.plot(x,y,'ro') # plot the x and y data\r\n",
        "trend = np.poly1d(z)\r\n",
        "plt.plot(x,trend(x)); # plot the trend line\r\n"
      ],
      "execution_count": null,
      "outputs": [
        {
          "output_type": "stream",
          "text": [
            "[0.09929407 0.32593933]\n",
            "[0.27942503 0.18965764]\n",
            "\n",
            "\n",
            "The slope of the line is 0.099 +/- 0.279 and the y-intercept is 0.326 +/- 0.190\n"
          ],
          "name": "stdout"
        },
        {
          "output_type": "display_data",
          "data": {
            "image/png": "[encoded data removed]",
            "text/plain": [
              "<Figure size 432x288 with 1 Axes>"
            ]
          },
          "metadata": {
            "tags": [],
            "needs_background": "light"
          }
        }
      ]
    },
    {
      "cell_type": "markdown",
      "metadata": {
        "id": "u4B2tFooOQNc"
      },
      "source": [
        "\n",
        "\n",
        "---\n",
        "\n",
        "\n",
        "**Exercise:** Create an array of linear-ish data and plot it using polyfit. Also, feel free to try plotting quadratic data using polyfit.\n",
        "\n",
        "\n",
        "---\n",
        "\n"
      ]
    },
    {
      "cell_type": "markdown",
      "metadata": {
        "id": "i5nW9k2PFe5i"
      },
      "source": [
        "Polyfit works great for lines and low-degree polynomials. However, for more compliated fitting, we'll utilize scipy.optimize. For example, if we want to fit a Gaussian to some data. \r\n",
        "\r\n",
        "First we must define the function we wish to fit. Let's try to fit an exponential: $y = ae^{bx}$"
      ]
    },
    {
      "cell_type": "code",
      "metadata": {
        "id": "qq6BxUECGJva"
      },
      "source": [
        "from scipy.optimize import curve_fit # import the curve fit module from scipy\r\n",
        "\r\n",
        "# Now define our exponential\r\n",
        "def exponential(x, a, b):\r\n",
        "  return a*np.exp(b*x)\r\n",
        "  "
      ],
      "execution_count": null,
      "outputs": []
    },
    {
      "cell_type": "markdown",
      "metadata": {
        "id": "ueUKf0fBGzxA"
      },
      "source": [
        "Now we create a dummy dataset to fit with the function."
      ]
    },
    {
      "cell_type": "code",
      "metadata": {
        "colab": {
          "base_uri": "https://localhost:8080/",
          "height": 280
        },
        "id": "_ngEt9nlGzFh",
        "outputId": "23a25005-7221-48c7-d559-1a61524f0961"
      },
      "source": [
        "x = np.linspace(start=1, stop=6, num=50)\r\n",
        "# To create our y data, we have to use x and specify a and b\r\n",
        "# In this case, a=0.5, b=1.5\r\n",
        "y = exponential(x, 1.5, 1.5)\r\n",
        "\r\n",
        "# I also am going to create noise (I could do this manually but this is faster)\r\n",
        "# This will make the data set imperfect\r\n",
        "noise = 1000*np.random.normal(size=y.size)\r\n",
        "y = y + noise\r\n",
        "\r\n",
        "# Now plot the data\r\n",
        "plt.plot(x, y, 'ro')\r\n",
        "\r\n",
        "plt.xlabel('x')\r\n",
        "plt.ylabel('y');"
      ],
      "execution_count": null,
      "outputs": [
        {
          "output_type": "display_data",
          "data": {
            "image/png": "[encoded data removed]",
            "text/plain": [
              "<Figure size 432x288 with 1 Axes>"
            ]
          },
          "metadata": {
            "tags": [],
            "needs_background": "light"
          }
        }
      ]
    },
    {
      "cell_type": "markdown",
      "metadata": {
        "id": "zAEmsBGuIwo8"
      },
      "source": [
        "Now we fit the data with a exponential using curve_fit."
      ]
    },
    {
      "cell_type": "code",
      "metadata": {
        "id": "8m1CPtlrI4PA"
      },
      "source": [
        "pars, cov = curve_fit(f=exponential, xdata=x, ydata=y, p0=[0, 0], bounds=(-np.inf, np.inf))"
      ],
      "execution_count": null,
      "outputs": []
    },
    {
      "cell_type": "markdown",
      "metadata": {
        "id": "4X4k7smqJQQ6"
      },
      "source": [
        "In this case, we specified that we wanted to try to fit our previously defined function (exponential) to the data. \r\n",
        "\r\n",
        "**p0** specifies the intial guesses for the a and b parameters (intial guess being a=0 and b=0 in this case). \r\n",
        "\r\n",
        "**bounds** specifies what the parameters can be. \r\n",
        "\r\n",
        "**pars** is the array of parameters generated by curve_fit ([a, b] from this fit).\r\n",
        "\r\n",
        "**cov** is the estimated covariance of pars generated by curve_fit which is used to find the standard deiviation."
      ]
    },
    {
      "cell_type": "markdown",
      "metadata": {
        "id": "c-OyeEGxJ_u1"
      },
      "source": [
        "Now we can find the standard deviation of the fit parameters."
      ]
    },
    {
      "cell_type": "code",
      "metadata": {
        "colab": {
          "base_uri": "https://localhost:8080/"
        },
        "id": "8sEbY9sxKGhq",
        "outputId": "84bd222f-491a-4131-f0d3-275d19c0f292"
      },
      "source": [
        "# Standard deviation\r\n",
        "stdev = np.sqrt(np.diag(cov)) # stdev is the sqrt(cov)\r\n",
        "\r\n",
        "# Residuals can be calculated easily as well.\r\n",
        "res = y - exponential(x, *pars) # *pars unrolls/unpacks the [a, b] array\r\n",
        "# into a, b. So exponential(x, *pars) is equivalent to exponential(x, a, b)\r\n",
        "\r\n",
        "print(*pars)\r\n",
        "print(*stdev)\r\n",
        "\r\n",
        "# Using print to display the results meaningfully\r\n",
        "print(\"\\n a is %1.3f +/- %1.3f, b is %1.3f +/- %1.3f\" % (pars[0], stdev[0], pars[1], stdev[1]))"
      ],
      "execution_count": null,
      "outputs": [
        {
          "output_type": "stream",
          "text": [
            "2.084272493217437 1.436989642116566\n",
            "1.7445440016696714 0.1465599235787979\n",
            "\n",
            " a is 2.084 +/- 1.745, b is 1.437 +/- 0.147\n"
          ],
          "name": "stdout"
        }
      ]
    },
    {
      "cell_type": "markdown",
      "metadata": {
        "id": "l0yDKhXIK4Qp"
      },
      "source": [
        "Note: The values of a and b are close to the initial input values (but are definitely not always right on). However, they are generally inside a standard deviation of the initial values."
      ]
    },
    {
      "cell_type": "markdown",
      "metadata": {
        "id": "O_RCLA_7Ks_D"
      },
      "source": [
        "Now we can plot the fit over the data, like we've done before. It did a pretty good job!"
      ]
    },
    {
      "cell_type": "code",
      "metadata": {
        "colab": {
          "base_uri": "https://localhost:8080/",
          "height": 265
        },
        "id": "mpXhGctRLO1c",
        "outputId": "dcfd1a0a-4726-483a-dc2e-3343f2d5184a"
      },
      "source": [
        "plt.plot(x, y, 'ro')\r\n",
        "plt.plot(x, exponential(x,*pars), 'b--');"
      ],
      "execution_count": null,
      "outputs": [
        {
          "output_type": "display_data",
          "data": {
            "image/png": "[encoded data removed]",
            "text/plain": [
              "<Figure size 432x288 with 1 Axes>"
            ]
          },
          "metadata": {
            "tags": [],
            "needs_background": "light"
          }
        }
      ]
    },
    {
      "cell_type": "markdown",
      "metadata": {
        "id": "Tdzwl8nGNByX"
      },
      "source": [
        "\n",
        "\n",
        "---\n",
        "\n",
        "\n",
        "**Exercise:** Play with the a,b parameters of the exponential, the randomness of the data, or the size of the data set. Are your fitting parameters always within a standard deviation of the initial parameters you set?\n",
        "\n",
        "\n",
        "---\n",
        "\n"
      ]
    },
    {
      "cell_type": "markdown",
      "metadata": {
        "id": "TQvWRxMrNR6j"
      },
      "source": [
        "\n",
        "\n",
        "---\n",
        "\n",
        "\n",
        "**Extra Exercise:** If you have time, try defining a different function (like x, x^2, x^4, sinx, etc.), creating noisy data to fit, fitting the data, and plotting it.\n",
        "\n",
        "\n",
        "---\n",
        "\n"
      ]
    },
    {
      "cell_type": "markdown",
      "metadata": {
        "id": "dyHrUA6rgpEQ"
      },
      "source": [
        "A common thing is fit in this course is a Gaussian function $y=ae^\\frac{-(x-b)^2}{2c^2}$. Let's follow our exact same steps as before to fit one from a data set."
      ]
    },
    {
      "cell_type": "code",
      "metadata": {
        "colab": {
          "base_uri": "https://localhost:8080/",
          "height": 408
        },
        "id": "283us9p0hGFP",
        "outputId": "ab429e56-579f-4ee3-9654-413aec5896e0"
      },
      "source": [
        "# Now define our gaussian\r\n",
        "def gaussian(x, a, b, c):\r\n",
        "  return a*np.exp(-np.power(x - b, 2)/(2*np.power(c,2)))\r\n",
        "\r\n",
        "x = np.linspace(start=-10, stop=10, num=150)\r\n",
        "# To create our y data, we have to use x and specify a, b, c\r\n",
        "y = gaussian(x, 5, -1, 3)\r\n",
        "\r\n",
        "# I also am going to create noise (I could do this manually but this is faster)\r\n",
        "# This will make the data set \"imperfect\"\r\n",
        "noise = 1*np.random.normal(size=y.size)\r\n",
        "y = y + noise\r\n",
        "\r\n",
        "# Now plot the data\r\n",
        "plt.plot(x, y, 'ro')\r\n",
        "\r\n",
        "plt.xlabel('x')\r\n",
        "plt.ylabel('y')\r\n",
        "\r\n",
        "pars, cov = curve_fit(f=gaussian, xdata=x, ydata=y, p0=[1, 1, 1], bounds=(-np.inf, np.inf))\r\n",
        "\r\n",
        "# Standard deviation\r\n",
        "stdev = np.sqrt(np.diag(cov)) # stdev is the sqrt(cov)\r\n",
        "\r\n",
        "# Residuals\r\n",
        "res = y - gaussian(x, *pars) # the residuals can be calculated easily as well.. *pars unrolls/unpacks the [a, b, c] array\r\n",
        "\r\n",
        "print(*pars)\r\n",
        "print(*stdev)\r\n",
        "print(\"\\n\")\r\n",
        "\r\n",
        "# Using print to display the fitting parameters and their error meaningfully\r\n",
        "print(\" a is %1.3f +/- %1.3f \\n b is %1.3f +/- %1.3f \\n c is %1.3f +/- %1.3f\" \r\n",
        "     % (pars[0], stdev[0], pars[1], stdev[1], pars[2], stdev[2]))"
      ],
      "execution_count": null,
      "outputs": [
        {
          "output_type": "stream",
          "text": [
            "5.025400818043974 -1.039634636695472 2.987198578206616\n",
            "0.19708218692598764 0.13524312452566034 0.13535240859180328\n",
            "\n",
            "\n",
            " a is 5.025 +/- 0.197 \n",
            " b is -1.040 +/- 0.135 \n",
            " c is 2.987 +/- 0.135\n"
          ],
          "name": "stdout"
        },
        {
          "output_type": "display_data",
          "data": {
            "image/png": "[encoded data removed]",
            "text/plain": [
              "<Figure size 432x288 with 1 Axes>"
            ]
          },
          "metadata": {
            "tags": [],
            "needs_background": "light"
          }
        }
      ]
    },
    {
      "cell_type": "markdown",
      "metadata": {
        "id": "5xs_OhsaqoGO"
      },
      "source": [
        "Notice, this time we can't use p0=[0, 0, 0] as we will get a divide by zero answer, so we must try to guess a little about what the parameters would be. You could look at the equation and use it to guess more closely what you think the parameters would be but I just input p0=[1, 1, 1] without thinking about the equation of a gaussian."
      ]
    },
    {
      "cell_type": "code",
      "metadata": {
        "colab": {
          "base_uri": "https://localhost:8080/",
          "height": 265
        },
        "id": "Sd-UrcXri16e",
        "outputId": "591d9171-d4e6-44f4-de9f-a68edfde29c6"
      },
      "source": [
        "plt.plot(x, y, 'ro')\r\n",
        "plt.plot(x, gaussian(x,*pars), 'b--', linewidth=3.0);"
      ],
      "execution_count": null,
      "outputs": [
        {
          "output_type": "display_data",
          "data": {
            "image/png": "[encoded data removed]",
            "text/plain": [
              "<Figure size 432x288 with 1 Axes>"
            ]
          },
          "metadata": {
            "tags": [],
            "needs_background": "light"
          }
        }
      ]
    }
  ]
}